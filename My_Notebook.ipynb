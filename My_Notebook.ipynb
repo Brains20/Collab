{
  "nbformat": 4,
  "nbformat_minor": 0,
  "metadata": {
    "colab": {
      "provenance": [],
      "toc_visible": true,
      "mount_file_id": "1hlzMUe5OibbFAtQoeS6Si1DEPFdaenTf",
      "authorship_tag": "ABX9TyNkp0AWmyyvlf44TktYUJMi",
      "include_colab_link": true
    },
    "kernelspec": {
      "name": "python3",
      "display_name": "Python 3"
    },
    "language_info": {
      "name": "python"
    }
  },
  "cells": [
    {
      "cell_type": "markdown",
      "metadata": {
        "id": "view-in-github",
        "colab_type": "text"
      },
      "source": [
        "<a href=\"https://colab.research.google.com/github/Brains20/Collab/blob/main/My_Notebook.ipynb\" target=\"_parent\"><img src=\"https://colab.research.google.com/assets/colab-badge.svg\" alt=\"Open In Colab\"/></a>"
      ]
    },
    {
      "cell_type": "code",
      "execution_count": 2,
      "metadata": {
        "colab": {
          "base_uri": "https://localhost:8080/"
        },
        "id": "uQyjrEyRdCMF",
        "outputId": "c7e4cd63-4cb7-4d79-b396-02bddd97dc8c"
      },
      "outputs": [
        {
          "output_type": "stream",
          "name": "stdout",
          "text": [
            "Good Morning World\n"
          ]
        }
      ],
      "source": [
        "print(\"Good Morning World\")"
      ]
    }
  ]
}